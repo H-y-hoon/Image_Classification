{
  "nbformat": 4,
  "nbformat_minor": 0,
  "metadata": {
    "colab": {
      "name": "데이터분석기초통계 기말 프로젝트.ipynb",
      "provenance": [],
      "collapsed_sections": [],
      "authorship_tag": "ABX9TyPPH+ovkTfFQmSamajpWc9Y",
      "include_colab_link": true
    },
    "kernelspec": {
      "name": "python3",
      "display_name": "Python 3"
    },
    "language_info": {
      "name": "python"
    },
    "gpuClass": "standard"
  },
  "cells": [
    {
      "cell_type": "markdown",
      "metadata": {
        "id": "view-in-github",
        "colab_type": "text"
      },
      "source": [
        "<a href=\"https://colab.research.google.com/github/H-y-hoon/keras_mnist/blob/main/%EB%8D%B0%EC%9D%B4%ED%84%B0%EB%B6%84%EC%84%9D%EA%B8%B0%EC%B4%88%ED%86%B5%EA%B3%84_%EA%B8%B0%EB%A7%90_%ED%94%84%EB%A1%9C%EC%A0%9D%ED%8A%B8.ipynb\" target=\"_parent\"><img src=\"https://colab.research.google.com/assets/colab-badge.svg\" alt=\"Open In Colab\"/></a>"
      ]
    },
    {
      "cell_type": "code",
      "execution_count": 1,
      "metadata": {
        "colab": {
          "base_uri": "https://localhost:8080/"
        },
        "id": "rC0SZwwgMcmN",
        "outputId": "d6f6b0bc-54f9-469b-fae7-d3d88d59344b"
      },
      "outputs": [
        {
          "output_type": "stream",
          "name": "stdout",
          "text": [
            "Mounted at /content/drive\n"
          ]
        }
      ],
      "source": [
        "from google.colab import drive\n",
        "drive.mount('/content/drive')"
      ]
    },
    {
      "cell_type": "markdown",
      "source": [
        ""
      ],
      "metadata": {
        "id": "xooTFxVoWNX2"
      }
    },
    {
      "cell_type": "markdown",
      "source": [
        "# CNN으로 MNIST데이터셋 분석하기"
      ],
      "metadata": {
        "id": "_Ho7SieCOU5R"
      }
    },
    {
      "cell_type": "code",
      "source": [
        "#데이터 불러오기(mnist 손글씨 데이터)\n",
        "from keras.datasets import mnist"
      ],
      "metadata": {
        "id": "ioys9yahMhdr"
      },
      "execution_count": 2,
      "outputs": []
    },
    {
      "cell_type": "code",
      "source": [
        "import tensorflow as tf\n",
        "from tensorflow import keras\n",
        "from tensorflow.keras import layers\n",
        "from keras.utils import np_utils\n",
        "from keras.models import Sequential\n",
        "from keras.layers import Dense, Conv2D, MaxPooling2D, Dropout, Flatten\n",
        "from keras.callbacks import ModelCheckpoint, EarlyStopping\n",
        "\n",
        "import matplotlib.pyplot as plt\n",
        "import os\n",
        "import numpy"
      ],
      "metadata": {
        "id": "1bEtYqg3NMPQ"
      },
      "execution_count": 3,
      "outputs": []
    },
    {
      "cell_type": "code",
      "source": [
        "mnist = tf.keras.datasets.mnist"
      ],
      "metadata": {
        "id": "lnil2DqzN8sc"
      },
      "execution_count": 4,
      "outputs": []
    },
    {
      "cell_type": "code",
      "source": [
        "(x_train, y_train), (x_test, y_test) = mnist.load_data()"
      ],
      "metadata": {
        "colab": {
          "base_uri": "https://localhost:8080/"
        },
        "id": "9rYR-bjiNIVG",
        "outputId": "ed8e7385-754b-47b7-e126-5c3591381227"
      },
      "execution_count": 5,
      "outputs": [
        {
          "output_type": "stream",
          "name": "stdout",
          "text": [
            "Downloading data from https://storage.googleapis.com/tensorflow/tf-keras-datasets/mnist.npz\n",
            "11493376/11490434 [==============================] - 0s 0us/step\n",
            "11501568/11490434 [==============================] - 0s 0us/step\n"
          ]
        }
      ]
    },
    {
      "cell_type": "code",
      "source": [
        "#시각화로 데이터 확인\n",
        "import matplotlib.pyplot as plt\n",
        "\n",
        "\n",
        "plt.figure(figsize=(10, 10))\n",
        "c = 0\n",
        "for x in range(5):\n",
        "    for y in range(3):\n",
        "        plt.subplot(5,3,c+1)\n",
        "        plt.imshow(x_train[c], cmap='gray')\n",
        "        c+=1\n",
        "    \n",
        "plt.show()\n",
        "\n",
        "print(y_train[:15])"
      ],
      "metadata": {
        "colab": {
          "base_uri": "https://localhost:8080/",
          "height": 612
        },
        "id": "DlJsirq9OCTy",
        "outputId": "32706a65-34c1-40a4-a0e8-2b5b3e1e46dc"
      },
      "execution_count": 6,
      "outputs": [
        {
          "output_type": "display_data",
          "data": {
            "text/plain": [
              "<Figure size 720x720 with 15 Axes>"
            ],
            "image/png": "[encoded data removed]"
          },
          "metadata": {
            "needs_background": "light"
          }
        },
        {
          "output_type": "stream",
          "name": "stdout",
          "text": [
            "[5 0 4 1 9 2 1 3 1 4 3 5 3 6 1]\n"
          ]
        }
      ]
    },
    {
      "cell_type": "markdown",
      "source": [
        "# 1. 데이터 전처리"
      ],
      "metadata": {
        "id": "cYeN_9jZX3Ea"
      }
    },
    {
      "cell_type": "code",
      "source": [
        "#Normalization\n",
        "x_train = x_train / 255 \n",
        "x_test = x_test / 255"
      ],
      "metadata": {
        "id": "IBkiKUJrWeqE"
      },
      "execution_count": 7,
      "outputs": []
    },
    {
      "cell_type": "code",
      "source": [
        "print(x_train.shape, y_train.shape)\n",
        "print(x_test.shape, y_test.shape)"
      ],
      "metadata": {
        "colab": {
          "base_uri": "https://localhost:8080/"
        },
        "id": "1Snot9z-YAHj",
        "outputId": "bd2e8505-15eb-438a-ad3d-f145e5a4e95e"
      },
      "execution_count": 8,
      "outputs": [
        {
          "output_type": "stream",
          "name": "stdout",
          "text": [
            "(60000, 28, 28) (60000,)\n",
            "(10000, 28, 28) (10000,)\n"
          ]
        }
      ]
    },
    {
      "cell_type": "code",
      "source": [
        "#reshape\n",
        "# reshape : [samples][width][height][channels]\n",
        "X_train = x_train.reshape(x_train.shape[0], 28, 28, 1).astype('float32')\n",
        "X_test = x_test.reshape(x_test.shape[0], 28, 28, 1).astype('float32')"
      ],
      "metadata": {
        "id": "_nNcOHMiYQt4"
      },
      "execution_count": 9,
      "outputs": []
    },
    {
      "cell_type": "code",
      "source": [
        "#Label Encoding\n",
        "#0~9 사이의 이미지 레이블 데이터를 10개의 숫자 벡터 값으로 변형시켜 주기 위해 원핫인코딩을 진행\n",
        "#CNN모델 입력형태로 변형시켜주기 위함\n",
        "from tensorflow.keras.utils import to_categorical\n",
        "\n",
        "y_train = to_categorical(y_train)\n",
        "y_test = to_categorical(y_test)\n",
        "\n",
        "num_classes = y_test.shape[1]"
      ],
      "metadata": {
        "id": "0key-AZ8ZtlU"
      },
      "execution_count": 10,
      "outputs": []
    },
    {
      "cell_type": "markdown",
      "source": [
        "# 2. Create Model"
      ],
      "metadata": {
        "id": "gWD-ZUaYdW9c"
      }
    },
    {
      "cell_type": "code",
      "source": [
        "#create model\n",
        "model = Sequential()\n",
        "model.add(Conv2D(32, kernel_size=(3, 3), input_shape=(28, 28, 1), activation='relu'))\n",
        "model.add(Conv2D(64, (3, 3), activation='relu'))\n",
        "model.add(MaxPooling2D(pool_size=2))\n",
        "model.add(Dropout(0.25))\n",
        "model.add(Flatten())\n",
        "model.add(Dense(128, activation='relu'))\n",
        "model.add(Dropout(0.5))\n",
        "model.add(Dense(10, activation='softmax'))"
      ],
      "metadata": {
        "id": "XB2mSnhhaTRo"
      },
      "execution_count": 16,
      "outputs": []
    },
    {
      "cell_type": "code",
      "source": [
        "model = convolutional_model()\n",
        "model.summary()"
      ],
      "metadata": {
        "colab": {
          "base_uri": "https://localhost:8080/"
        },
        "id": "E8ZfM1lF7D5H",
        "outputId": "e9f8c498-1706-493b-d8e4-ba970705733b"
      },
      "execution_count": 17,
      "outputs": [
        {
          "output_type": "stream",
          "name": "stdout",
          "text": [
            "Model: \"sequential_2\"\n",
            "_________________________________________________________________\n",
            " Layer (type)                Output Shape              Param #   \n",
            "=================================================================\n",
            " conv2d_3 (Conv2D)           (None, 24, 24, 16)        416       \n",
            "                                                                 \n",
            " max_pooling2d_2 (MaxPooling  (None, 12, 12, 16)       0         \n",
            " 2D)                                                             \n",
            "                                                                 \n",
            " flatten_2 (Flatten)         (None, 2304)              0         \n",
            "                                                                 \n",
            " dense_4 (Dense)             (None, 100)               230500    \n",
            "                                                                 \n",
            " dense_5 (Dense)             (None, 10)                1010      \n",
            "                                                                 \n",
            "=================================================================\n",
            "Total params: 231,926\n",
            "Trainable params: 231,926\n",
            "Non-trainable params: 0\n",
            "_________________________________________________________________\n"
          ]
        }
      ]
    },
    {
      "cell_type": "code",
      "source": [
        "model.compile(optimizer='adam', loss='categorical_crossentropy',  metrics=['accuracy'])"
      ],
      "metadata": {
        "id": "zUCgAF7V7GXF"
      },
      "execution_count": 19,
      "outputs": []
    },
    {
      "cell_type": "code",
      "source": [
        "history = model.fit(x_train, y_train, validation_data=(X_test, y_test), epochs=10, batch_size=200, verbose=2)"
      ],
      "metadata": {
        "colab": {
          "base_uri": "https://localhost:8080/"
        },
        "id": "mQyfrW-d7MB5",
        "outputId": "4a6e616a-0d55-409f-a3cb-22ed76620b69"
      },
      "execution_count": 30,
      "outputs": [
        {
          "output_type": "stream",
          "name": "stdout",
          "text": [
            "Epoch 1/10\n",
            "300/300 - 19s - loss: 0.0013 - accuracy: 0.9996 - val_loss: 0.0460 - val_accuracy: 0.9899 - 19s/epoch - 64ms/step\n",
            "Epoch 2/10\n",
            "300/300 - 18s - loss: 1.6811e-04 - accuracy: 1.0000 - val_loss: 0.0448 - val_accuracy: 0.9903 - 18s/epoch - 61ms/step\n",
            "Epoch 3/10\n",
            "300/300 - 19s - loss: 1.1273e-04 - accuracy: 1.0000 - val_loss: 0.0446 - val_accuracy: 0.9901 - 19s/epoch - 62ms/step\n",
            "Epoch 4/10\n",
            "300/300 - 18s - loss: 8.8614e-05 - accuracy: 1.0000 - val_loss: 0.0446 - val_accuracy: 0.9901 - 18s/epoch - 61ms/step\n",
            "Epoch 5/10\n",
            "300/300 - 18s - loss: 7.2755e-05 - accuracy: 1.0000 - val_loss: 0.0445 - val_accuracy: 0.9902 - 18s/epoch - 61ms/step\n",
            "Epoch 6/10\n",
            "300/300 - 19s - loss: 6.0942e-05 - accuracy: 1.0000 - val_loss: 0.0447 - val_accuracy: 0.9903 - 19s/epoch - 65ms/step\n",
            "Epoch 7/10\n",
            "300/300 - 18s - loss: 5.1916e-05 - accuracy: 1.0000 - val_loss: 0.0448 - val_accuracy: 0.9903 - 18s/epoch - 61ms/step\n",
            "Epoch 8/10\n",
            "300/300 - 18s - loss: 4.4438e-05 - accuracy: 1.0000 - val_loss: 0.0450 - val_accuracy: 0.9903 - 18s/epoch - 61ms/step\n",
            "Epoch 9/10\n",
            "300/300 - 18s - loss: 3.8246e-05 - accuracy: 1.0000 - val_loss: 0.0453 - val_accuracy: 0.9904 - 18s/epoch - 61ms/step\n",
            "Epoch 10/10\n",
            "300/300 - 18s - loss: 3.3097e-05 - accuracy: 1.0000 - val_loss: 0.0454 - val_accuracy: 0.9904 - 18s/epoch - 61ms/step\n"
          ]
        }
      ]
    },
    {
      "cell_type": "code",
      "source": [
        "scores = model.evaluate(x_test, y_test, verbose=0)\n",
        "print(\"정확도: {} \\n 손실률: {}\".format(scores[1], 100-scores[1]*100))"
      ],
      "metadata": {
        "colab": {
          "base_uri": "https://localhost:8080/"
        },
        "id": "kK9bwtHN7Oi_",
        "outputId": "c30ced69-def3-46ae-9e14-ea45931994e1"
      },
      "execution_count": 22,
      "outputs": [
        {
          "output_type": "stream",
          "name": "stdout",
          "text": [
            "정확도: 0.9894000291824341 \n",
            " 손실률: 1.0599970817565918\n"
          ]
        }
      ]
    },
    {
      "cell_type": "markdown",
      "source": [
        "# 모델 시각화"
      ],
      "metadata": {
        "id": "P1JSLVWaEnQy"
      }
    },
    {
      "cell_type": "code",
      "source": [
        "y_vloss = history.history['val_loss']\n",
        "y_loss = history.history['loss']\n",
        "\n",
        "x_len = numpy.arange(len(y_loss))\n",
        "plt.plot(x_len, y_loss, marker='.', c='blue', label=\"Train-set Loss\")\n",
        "plt.plot(x_len, y_vloss, marker='.', c='red', label=\"Validation-set Loss\")\n",
        "\n",
        "plt.legend(loc='upper right')\n",
        "plt.grid()\n",
        "plt.xlabel('epoch')\n",
        "plt.ylabel('loss')\n",
        "plt.show()"
      ],
      "metadata": {
        "colab": {
          "base_uri": "https://localhost:8080/",
          "height": 279
        },
        "id": "86sxAe4nEvtc",
        "outputId": "be083308-b842-4a10-ff87-61dcd2f2e462"
      },
      "execution_count": 32,
      "outputs": [
        {
          "output_type": "display_data",
          "data": {
            "text/plain": [
              "<Figure size 432x288 with 1 Axes>"
            ],
            "image/png": "[encoded data removed]"
          },
          "metadata": {
            "needs_background": "light"
          }
        }
      ]
    },
    {
      "cell_type": "code",
      "source": [
        ""
      ],
      "metadata": {
        "id": "K7LfG78YNs0U"
      },
      "execution_count": null,
      "outputs": []
    }
  ]
}